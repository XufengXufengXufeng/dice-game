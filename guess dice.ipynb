{
 "cells": [
  {
   "cell_type": "code",
   "execution_count": 2,
   "metadata": {
    "collapsed": true
   },
   "outputs": [],
   "source": [
    "import numpy as np\n",
    "from random import randint,choice"
   ]
  },
  {
   "cell_type": "markdown",
   "metadata": {},
   "source": [
    "## there are 12 dices in a urn. Han Meimei picks a dice from the urn and hides it from Li Lei. The task for Li Lei is to guess which dice Han Meimei has picked based on the playing record that Han Meimei has recorded."
   ]
  },
  {
   "cell_type": "markdown",
   "metadata": {},
   "source": [
    "### Han Meimei picked a dice"
   ]
  },
  {
   "cell_type": "code",
   "execution_count": 161,
   "metadata": {
    "collapsed": true
   },
   "outputs": [],
   "source": [
    "dices = [4,6,8,10,12,14,16,18,20,22,24,26]\n",
    "dice = choice(dices)"
   ]
  },
  {
   "cell_type": "markdown",
   "metadata": {},
   "source": [
    "### Li Lei writes down his original guess for the probabilities of the dices being picked."
   ]
  },
  {
   "cell_type": "code",
   "execution_count": 162,
   "metadata": {},
   "outputs": [],
   "source": [
    "size = len(dices)\n",
    "prop = {i:1/size for i in dices}"
   ]
  },
  {
   "cell_type": "markdown",
   "metadata": {},
   "source": [
    "### Li Lei reasons about the likelyhood of the rolling record when the dice is given."
   ]
  },
  {
   "cell_type": "code",
   "execution_count": 174,
   "metadata": {
    "collapsed": true
   },
   "outputs": [],
   "source": [
    "def get_likelyhood(data,hypo):\n",
    "    if hypo<data:\n",
    "        return 0\n",
    "    else:\n",
    "        return 1/hypo"
   ]
  },
  {
   "cell_type": "markdown",
   "metadata": {},
   "source": [
    "### Li Lei will apply the bayesian formula to update his belief about the probabilities of each dice being picked."
   ]
  },
  {
   "cell_type": "code",
   "execution_count": 166,
   "metadata": {
    "collapsed": true
   },
   "outputs": [],
   "source": [
    "def update(data):\n",
    "    for key in prop.keys():\n",
    "        prop[key] = prop[key]*get_likelyhood(data,key)\n",
    "    denom = sum(prop.values())\n",
    "    for key in prop.keys():\n",
    "        prop[key] = prop[key]/denom"
   ]
  },
  {
   "cell_type": "markdown",
   "metadata": {},
   "source": [
    "### Han Meimei is ready to play."
   ]
  },
  {
   "cell_type": "code",
   "execution_count": 167,
   "metadata": {
    "collapsed": true
   },
   "outputs": [],
   "source": [
    "def roll_dice():\n",
    "    return randint(1,dice)"
   ]
  },
  {
   "cell_type": "markdown",
   "metadata": {},
   "source": [
    "### Han Meimei rolls dice for 20 times (or more or less, you can choose) and records it on a list object."
   ]
  },
  {
   "cell_type": "code",
   "execution_count": 168,
   "metadata": {
    "collapsed": true
   },
   "outputs": [],
   "source": [
    "records = [roll_dice() for _ in range(20)]"
   ]
  },
  {
   "cell_type": "markdown",
   "metadata": {},
   "source": [
    "### Li Lei updates his probability table."
   ]
  },
  {
   "cell_type": "code",
   "execution_count": 169,
   "metadata": {
    "collapsed": true
   },
   "outputs": [],
   "source": [
    "for data in records:\n",
    "    update(data)"
   ]
  },
  {
   "cell_type": "markdown",
   "metadata": {},
   "source": [
    "### Li Lei gives his guess and impresses Han Meimei."
   ]
  },
  {
   "cell_type": "code",
   "execution_count": 175,
   "metadata": {},
   "outputs": [
    {
     "name": "stdout",
     "output_type": "stream",
     "text": [
      "Han Meimei's dice is 18 and Li Lei guesses 18\n"
     ]
    }
   ],
   "source": [
    "guess = dices[np.argmax(list(prop.values()))]\n",
    "print(\"Han Meimei's dice is {} and Li Lei guesses {}\".format(dice,guess))"
   ]
  },
  {
   "cell_type": "code",
   "execution_count": null,
   "metadata": {
    "collapsed": true
   },
   "outputs": [],
   "source": []
  }
 ],
 "metadata": {
  "kernelspec": {
   "display_name": "Python 3",
   "language": "python",
   "name": "python3"
  },
  "language_info": {
   "codemirror_mode": {
    "name": "ipython",
    "version": 3
   },
   "file_extension": ".py",
   "mimetype": "text/x-python",
   "name": "python",
   "nbconvert_exporter": "python",
   "pygments_lexer": "ipython3",
   "version": "3.6.3"
  }
 },
 "nbformat": 4,
 "nbformat_minor": 2
}
